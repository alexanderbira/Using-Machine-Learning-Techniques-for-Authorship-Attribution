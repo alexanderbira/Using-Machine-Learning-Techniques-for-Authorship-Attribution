{
 "cells": [
  {
   "cell_type": "code",
   "execution_count": 4,
   "metadata": {
    "colab": {
     "base_uri": "https://localhost:8080/"
    },
    "execution": {
     "iopub.execute_input": "2022-08-20T21:35:58.076609Z",
     "iopub.status.busy": "2022-08-20T21:35:58.076176Z",
     "iopub.status.idle": "2022-08-20T21:35:58.083280Z",
     "shell.execute_reply": "2022-08-20T21:35:58.081690Z",
     "shell.execute_reply.started": "2022-08-20T21:35:58.076567Z"
    },
    "id": "X3-QJsH4nxzL",
    "outputId": "a6838dad-bbe5-49e3-8089-74d491af95af"
   },
   "outputs": [],
   "source": [
    "import os\n",
    "import json\n",
    "import numpy as np\n",
    "import pandas as pd\n",
    "import tensorflow as tf\n",
    "from tensorflow.keras import layers\n",
    "from matplotlib import pyplot as plt"
   ]
  },
  {
   "cell_type": "code",
   "execution_count": null,
   "metadata": {
    "colab": {
     "base_uri": "https://localhost:8080/"
    },
    "execution": {
     "iopub.execute_input": "2022-08-20T21:36:08.536758Z",
     "iopub.status.busy": "2022-08-20T21:36:08.536356Z",
     "iopub.status.idle": "2022-08-20T21:36:09.327650Z",
     "shell.execute_reply": "2022-08-20T21:36:09.326736Z",
     "shell.execute_reply.started": "2022-08-20T21:36:08.536731Z"
    },
    "id": "vrPFjetztGq5",
    "outputId": "deadf147-dc94-4a20-8637-e3f5e5d75db0"
   },
   "outputs": [],
   "source": [
    "# Load the data\n",
    "\n",
    "train_data = pd.read_json(\"train_rectangle.json\", orient=\"records\")\n",
    "test_data = pd.read_json(\"test_rectangle.json\", orient=\"records\")\n",
    "\n",
    "x_train = train_data.iloc[:, 0:118]\n",
    "y_train = train_data[118]\n",
    "\n",
    "x_test = test_data.iloc[:, 0:118]\n",
    "y_test = test_data[118]\n",
    "\n",
    "print(x_train)\n",
    "print(y_train)"
   ]
  },
  {
   "cell_type": "code",
   "execution_count": 5,
   "metadata": {
    "execution": {
     "iopub.execute_input": "2022-08-20T21:36:00.322064Z",
     "iopub.status.busy": "2022-08-20T21:36:00.321687Z",
     "iopub.status.idle": "2022-08-20T21:36:00.334867Z",
     "shell.execute_reply": "2022-08-20T21:36:00.333137Z",
     "shell.execute_reply.started": "2022-08-20T21:36:00.322037Z"
    },
    "id": "cVCROUV2buJ3"
   },
   "outputs": [],
   "source": [
    "# Define create and train model functions\n",
    "\n",
    "def create_model(my_learning_rate):\n",
    "    model = tf.keras.models.Sequential()\n",
    "    # hidden layers\n",
    "    model.add(tf.keras.layers.Input(\n",
    "        shape=[None, None, None, 118], dtype=tf.int64))\n",
    "\n",
    "    for i in range(0, 5):\n",
    "        model.add(tf.keras.layers.Dense(units=22, activation=\"relu\"))\n",
    "\n",
    "    model.add(tf.keras.layers.Dense(units=4, activation='softmax'))\n",
    "    # compile\n",
    "    model.compile(optimizer=tf.keras.optimizers.Adamax(learning_rate=my_learning_rate),\n",
    "                  loss=\"sparse_categorical_crossentropy\",\n",
    "                  metrics=[\"accuracy\"])\n",
    "    return model\n",
    "\n",
    "\n",
    "def train_model(model, train_features, train_label, epochs,\n",
    "                batch_size=None, validation_split=0.1):\n",
    "    history = model.fit(x=train_features, y=train_label, batch_size=batch_size,\n",
    "                        epochs=epochs, shuffle=True,\n",
    "                        validation_split=validation_split)\n",
    "\n",
    "    epochs = history.epoch\n",
    "    history = pd.DataFrame(history.history)\n",
    "\n",
    "    return epochs, history"
   ]
  },
  {
   "cell_type": "code",
   "execution_count": null,
   "metadata": {
    "colab": {
     "base_uri": "https://localhost:8080/",
     "height": 585
    },
    "execution": {
     "iopub.execute_input": "2022-08-20T21:36:18.210725Z",
     "iopub.status.busy": "2022-08-20T21:36:18.209597Z",
     "iopub.status.idle": "2022-08-20T21:36:51.752398Z",
     "shell.execute_reply": "2022-08-20T21:36:51.750792Z",
     "shell.execute_reply.started": "2022-08-20T21:36:18.210700Z"
    },
    "id": "rwgu5afedaV4",
    "outputId": "0fd43c17-fbb1-476f-eb48-d4946c25f691"
   },
   "outputs": [],
   "source": [
    "# Create and train the model\n",
    "\n",
    "learning_rate = 0.003\n",
    "epochs = 100\n",
    "batch_size = 16\n",
    "val_split = 0.9\n",
    "\n",
    "my_model = create_model(learning_rate)\n",
    "\n",
    "epochs, hist = train_model(my_model, x_train, y_train, epochs, batch_size)"
   ]
  },
  {
   "cell_type": "code",
   "execution_count": null,
   "metadata": {
    "execution": {
     "iopub.status.busy": "2022-08-20T21:33:57.630696Z",
     "iopub.status.idle": "2022-08-20T21:33:57.631045Z",
     "shell.execute_reply": "2022-08-20T21:33:57.630894Z",
     "shell.execute_reply.started": "2022-08-20T21:33:57.630876Z"
    },
    "id": "1ITdvUsxrkl9"
   },
   "outputs": [],
   "source": [
    "def plot_model(epochs, hist, list_of_metrics):\n",
    "\n",
    "    plt.figure()\n",
    "    plt.xlabel(\"Epoch\")\n",
    "    plt.ylabel(\"Value\")\n",
    "\n",
    "    for m in list_of_metrics:\n",
    "        x = hist[m]\n",
    "        plt.plot(epochs[1:], x[1:], label=m)\n",
    "    plt.legend()"
   ]
  },
  {
   "cell_type": "code",
   "execution_count": null,
   "metadata": {
    "colab": {
     "base_uri": "https://localhost:8080/",
     "height": 1000
    },
    "execution": {
     "iopub.status.busy": "2022-08-20T21:33:57.635047Z",
     "iopub.status.idle": "2022-08-20T21:33:57.635425Z",
     "shell.execute_reply": "2022-08-20T21:33:57.635263Z",
     "shell.execute_reply.started": "2022-08-20T21:33:57.635245Z"
    },
    "id": "k9uVMzrr9nvk",
    "outputId": "02097417-571d-45be-f749-fb134f7a04e1"
   },
   "outputs": [],
   "source": [
    "# Plot the metric\n",
    "\n",
    "list_of_metrics_to_plot = [\"accuracy\"]\n",
    "plot_model(epochs, hist, list_of_metrics_to_plot)\n",
    "\n",
    "my_model.evaluate(x=x_test, y=y_test, batch_size=batch_size)\n",
    "\n",
    "\n",
    "print([learning_rate,\n",
    "       len(epochs),\n",
    "       batch_size,\n",
    "       val_split])\n",
    "print(my_model.summary())"
   ]
  }
 ],
 "metadata": {
  "colab": {
   "collapsed_sections": [],
   "name": "Copy of main.ipynb",
   "provenance": []
  },
  "gpuClass": "standard",
  "kernelspec": {
   "display_name": "Python 3.8.2 64-bit",
   "language": "python",
   "name": "python3"
  },
  "language_info": {
   "codemirror_mode": {
    "name": "ipython",
    "version": 3
   },
   "file_extension": ".py",
   "mimetype": "text/x-python",
   "name": "python",
   "nbconvert_exporter": "python",
   "pygments_lexer": "ipython3",
   "version": "3.10.6"
  },
  "vscode": {
   "interpreter": {
    "hash": "aee8b7b246df8f9039afb4144a1f6fd8d2ca17a180786b69acc140d282b71a49"
   }
  }
 },
 "nbformat": 4,
 "nbformat_minor": 4
}
