{
 "cells": [
  {
   "cell_type": "code",
   "execution_count": null,
   "id": "06d284fc-7568-427a-95bf-5005c7ee2572",
   "metadata": {
    "execution": {
     "iopub.execute_input": "2022-08-25T16:55:49.108622Z",
     "iopub.status.busy": "2022-08-25T16:55:49.107660Z",
     "iopub.status.idle": "2022-08-25T16:56:56.526073Z",
     "shell.execute_reply": "2022-08-25T16:56:56.525048Z",
     "shell.execute_reply.started": "2022-08-25T16:55:49.108622Z"
    }
   },
   "outputs": [],
   "source": [
    "!pip install opendatasets\n",
    "import opendatasets as od\n",
    "od.download(\n",
    "    \"https://www.kaggle.com/datasets/dhruvildave/github-commit-messages-dataset\")"
   ]
  },
  {
   "cell_type": "code",
   "execution_count": null,
   "id": "6442aab0-a3ee-4ecb-9ca3-30eec57c7fbe",
   "metadata": {
    "execution": {
     "iopub.execute_input": "2022-08-27T03:12:00.566234Z",
     "iopub.status.busy": "2022-08-27T03:12:00.565851Z",
     "iopub.status.idle": "2022-08-27T03:12:25.770537Z",
     "shell.execute_reply": "2022-08-27T03:12:25.769566Z",
     "shell.execute_reply.started": "2022-08-27T03:12:00.566207Z"
    }
   },
   "outputs": [],
   "source": [
    "# Load the CSV\n",
    "import pandas as pd\n",
    "df = pd.read_csv('github-commit-messages-dataset/full.csv', usecols=[\"author\", \"message\"])\n",
    "\n",
    "init_num_authors = 100"
   ]
  },
  {
   "cell_type": "code",
   "execution_count": null,
   "id": "3c3e5197-638e-4b33-a2e9-0106c7690381",
   "metadata": {
    "execution": {
     "iopub.execute_input": "2022-08-27T03:12:45.214727Z",
     "iopub.status.busy": "2022-08-27T03:12:45.214262Z",
     "iopub.status.idle": "2022-08-27T03:12:48.918793Z",
     "shell.execute_reply": "2022-08-27T03:12:48.917597Z",
     "shell.execute_reply.started": "2022-08-27T03:12:45.214697Z"
    }
   },
   "outputs": [],
   "source": [
    "#Order by number of contributions by author\n",
    "df = df.assign(new =df['author'].map(df['author'].value_counts())).sort_values(['new','author'], ascending=[False, True]).drop('new', axis=1)"
   ]
  },
  {
   "cell_type": "code",
   "execution_count": null,
   "id": "f217d2f5-bdae-4cc3-a2a9-b3ab58e1d3c9",
   "metadata": {
    "execution": {
     "iopub.execute_input": "2022-08-27T03:12:50.699759Z",
     "iopub.status.busy": "2022-08-27T03:12:50.699399Z",
     "iopub.status.idle": "2022-08-27T03:12:55.481701Z",
     "shell.execute_reply": "2022-08-27T03:12:55.480853Z",
     "shell.execute_reply.started": "2022-08-27T03:12:50.699732Z"
    }
   },
   "outputs": [],
   "source": [
    "#Remove bots and accounts representing multiple people\n",
    "words = [\"auto\", \"queue\", \"admin\", \"Gardener\", \"robot\", \"noreply\", \"TensorFlower\"]\n",
    "\n",
    "df = df[df['author'].str.contains('(' + '|'.join(words) + ')')==False] #ignore the error"
   ]
  },
  {
   "cell_type": "code",
   "execution_count": null,
   "id": "c54763a2-755e-4629-8ccb-6b18b3f059f6",
   "metadata": {
    "execution": {
     "iopub.execute_input": "2022-08-27T03:12:55.483958Z",
     "iopub.status.busy": "2022-08-27T03:12:55.483674Z",
     "iopub.status.idle": "2022-08-27T03:12:55.750476Z",
     "shell.execute_reply": "2022-08-27T03:12:55.749658Z",
     "shell.execute_reply.started": "2022-08-27T03:12:55.483933Z"
    }
   },
   "outputs": [],
   "source": [
    "#Only keep the first n authors' commits (makes the email removal step a looot faster)\n",
    "df = df.head(sum(df[\"author\"].value_counts()[:init_num_authors]))"
   ]
  },
  {
   "cell_type": "code",
   "execution_count": null,
   "id": "750bed6b-d843-4385-ac30-aca53727f410",
   "metadata": {
    "execution": {
     "iopub.execute_input": "2022-08-27T03:12:57.117087Z",
     "iopub.status.busy": "2022-08-27T03:12:57.116742Z",
     "iopub.status.idle": "2022-08-27T03:15:36.353064Z",
     "shell.execute_reply": "2022-08-27T03:15:36.352056Z",
     "shell.execute_reply.started": "2022-08-27T03:12:57.117061Z"
    }
   },
   "outputs": [],
   "source": [
    "#Remove all sign-off emails\n",
    "#Specifically, any line with the following: \"<email>\"\n",
    "\n",
    "import re\n",
    "\n",
    "totaldocs = sum(df[\"author\"].value_counts())\n",
    "pattern = \".*(<(?:(?!.*?[.]{2})[a-zA-Z0-9](?:[a-zA-Z0-9.+!%-]{1,64}|)|\\\"[a-zA-Z0-9.+!% -]{1,64}\\\")@[a-zA-Z0-9][a-zA-Z0-9.-]+(.[a-z]{2,}|.[0-9]{1,})>).*\\n?\"\n",
    "matches = 0\n",
    "\n",
    "loops = 0\n",
    "for i, row in df.iterrows():\n",
    "    if loops%10000==0: print(f\"{loops} / {totaldocs}\")\n",
    "    if re.search(pattern, str(row[\"message\"])):\n",
    "        df[\"message\"][i] = re.sub(pattern, '', str(row[\"message\"]))\n",
    "        matches += 1\n",
    "    \n",
    "    loops += 1\n",
    "\n",
    "print(f\"{matches} matches\")"
   ]
  },
  {
   "cell_type": "code",
   "execution_count": null,
   "id": "bab5ca8d-9b4f-42ce-93a0-a4666e2ae070",
   "metadata": {
    "execution": {
     "iopub.execute_input": "2022-08-27T03:15:40.215862Z",
     "iopub.status.busy": "2022-08-27T03:15:40.215512Z",
     "iopub.status.idle": "2022-08-27T03:15:40.686021Z",
     "shell.execute_reply": "2022-08-27T03:15:40.684875Z",
     "shell.execute_reply.started": "2022-08-27T03:15:40.215838Z"
    }
   },
   "outputs": [],
   "source": [
    "#Remove messages that are too short\n",
    "df = df[df['message'].apply(lambda x: len(str(x))>60)]"
   ]
  },
  {
   "cell_type": "code",
   "execution_count": null,
   "id": "464a68e0-957e-49eb-9c6e-fc9e64ab1df4",
   "metadata": {
    "execution": {
     "iopub.execute_input": "2022-08-27T03:15:43.383841Z",
     "iopub.status.busy": "2022-08-27T03:15:43.383344Z",
     "iopub.status.idle": "2022-08-27T03:15:43.397420Z",
     "shell.execute_reply": "2022-08-27T03:15:43.396456Z",
     "shell.execute_reply.started": "2022-08-27T03:15:43.383841Z"
    }
   },
   "outputs": [],
   "source": [
    "df"
   ]
  },
  {
   "cell_type": "code",
   "execution_count": null,
   "id": "21905df3-5959-4695-a85b-eadeccd6d956",
   "metadata": {
    "execution": {
     "iopub.execute_input": "2022-08-27T03:59:29.689768Z",
     "iopub.status.busy": "2022-08-27T03:59:29.689393Z",
     "iopub.status.idle": "2022-08-27T03:59:32.215702Z",
     "shell.execute_reply": "2022-08-27T03:59:32.215033Z",
     "shell.execute_reply.started": "2022-08-27T03:59:29.689742Z"
    }
   },
   "outputs": [],
   "source": [
    "#Limit the data\n",
    "\n",
    "df = pd.read_csv('github-commit-messages-dataset/processed.csv', usecols=[\"author\", \"message\"])\n",
    "df = df.assign(new =df['author'].map(df['author'].value_counts())).sort_values(['new','author'], ascending=[False, True]).drop('new', axis=1)\n",
    "\n",
    "num_authors = 100\n",
    "num_commits_per_author = 200 #≤printed value\n",
    "\n",
    "print(list(df['author'].value_counts())[num_authors-1])\n",
    "\n",
    "\n",
    "if (df['author'].value_counts()[num_authors-1]) >= num_commits_per_author:\n",
    "    df = df.head(sum(df[\"author\"].value_counts()[:num_authors]))\n",
    "    df = df.groupby(\"author\").head(num_commits_per_author).reset_index(drop=True).head(num_authors*num_commits_per_author)\n",
    "    \n",
    "df"
   ]
  },
  {
   "cell_type": "code",
   "execution_count": null,
   "id": "37a63128-bd6c-42f8-a10c-8f035bd513a2",
   "metadata": {
    "execution": {
     "iopub.execute_input": "2022-08-27T03:42:24.106931Z",
     "iopub.status.busy": "2022-08-27T03:42:24.106584Z",
     "iopub.status.idle": "2022-08-27T03:43:20.928335Z",
     "shell.execute_reply": "2022-08-27T03:43:20.927202Z",
     "shell.execute_reply.started": "2022-08-27T03:42:24.106907Z"
    }
   },
   "outputs": [],
   "source": [
    "#Export to files\n",
    "import os\n",
    "\n",
    "dirname = \"github_100_200_very_clean\"\n",
    "\n",
    "for i, row in df.iterrows():\n",
    "    \n",
    "    testrain = \"test\" if i%2==0 else \"train\"\n",
    "    \n",
    "    path = f\"{dirname}/{testrain}/{row['author']}\"\n",
    "\n",
    "    if not os.path.exists(path):\n",
    "      os.makedirs(path)\n",
    "\n",
    "    filename = f\"{i}.txt\"\n",
    "    f = open(f\"{os.path.join(path, filename)}\", \"w\")\n",
    "    f.write(str(row[\"message\"]))\n",
    "    f.close()\n",
    "    \n",
    "    if (i+1)%1000==0:print(f\"{i+1}/{num_authors*num_commits_per_author}\")"
   ]
  }
 ],
 "metadata": {
  "kernelspec": {
   "display_name": "Python 3.10.6 64-bit",
   "language": "python",
   "name": "python3"
  },
  "language_info": {
   "codemirror_mode": {
    "name": "ipython",
    "version": 3
   },
   "file_extension": ".py",
   "mimetype": "text/x-python",
   "name": "python",
   "nbconvert_exporter": "python",
   "pygments_lexer": "ipython3",
   "version": "3.10.6"
  },
  "vscode": {
   "interpreter": {
    "hash": "aee8b7b246df8f9039afb4144a1f6fd8d2ca17a180786b69acc140d282b71a49"
   }
  }
 },
 "nbformat": 4,
 "nbformat_minor": 5
}
