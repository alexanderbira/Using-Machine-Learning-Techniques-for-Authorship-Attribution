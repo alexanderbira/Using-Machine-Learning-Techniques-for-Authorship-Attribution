{
 "cells": [
  {
   "cell_type": "code",
   "execution_count": null,
   "id": "06d284fc-7568-427a-95bf-5005c7ee2572",
   "metadata": {
    "execution": {
     "iopub.execute_input": "2022-08-29T14:12:18.426121Z",
     "iopub.status.busy": "2022-08-29T14:12:18.425547Z",
     "iopub.status.idle": "2022-08-29T14:12:26.523924Z",
     "shell.execute_reply": "2022-08-29T14:12:26.522427Z",
     "shell.execute_reply.started": "2022-08-29T14:12:18.426013Z"
    }
   },
   "outputs": [],
   "source": [
    "!pip install opendatasets\n",
    "!pip install pandas\n",
    "import opendatasets as od\n",
    "  \n",
    "od.download(\n",
    "    \"https://www.kaggle.com/datasets/wcukierski/enron-email-dataset\")"
   ]
  },
  {
   "cell_type": "code",
   "execution_count": null,
   "id": "6442aab0-a3ee-4ecb-9ca3-30eec57c7fbe",
   "metadata": {
    "execution": {
     "iopub.execute_input": "2022-08-29T14:13:11.411956Z",
     "iopub.status.busy": "2022-08-29T14:13:11.411413Z",
     "iopub.status.idle": "2022-08-29T14:13:24.977679Z",
     "shell.execute_reply": "2022-08-29T14:13:24.976166Z",
     "shell.execute_reply.started": "2022-08-29T14:13:11.411914Z"
    }
   },
   "outputs": [],
   "source": [
    "# Load the CSV\n",
    "import pandas\n",
    "\n",
    "df = pandas.read_csv('/notebooks/enron-email-dataset/emails.csv')\n"
   ]
  },
  {
   "cell_type": "code",
   "execution_count": null,
   "id": "3f70ab4e-e26b-4ce4-bdc3-478cde8d79d7",
   "metadata": {
    "execution": {
     "iopub.execute_input": "2022-08-29T14:13:24.980498Z",
     "iopub.status.busy": "2022-08-29T14:13:24.980161Z",
     "iopub.status.idle": "2022-08-29T14:13:31.637714Z",
     "shell.execute_reply": "2022-08-29T14:13:31.635973Z",
     "shell.execute_reply.started": "2022-08-29T14:13:24.980462Z"
    }
   },
   "outputs": [],
   "source": [
    "import numpy\n",
    "import email\n",
    "!pip install quotequail\n",
    "import quotequail as qq\n",
    "import random\n",
    "\n",
    "\n",
    "def formatmsg(msg):\n",
    "    msg = email.message_from_string(msg).get_payload()\n",
    "    msg = msg.split('--')[0].strip().split('\\n\\n\\n')[0]\n",
    "    if len(msg) < 1: return numpy.NAN\n",
    "    if msg.startswith('-'):\n",
    "        return numpy.NAN\n",
    "    elif msg.startswith('http'):\n",
    "        return numpy.NAN\n",
    "    return msg\n",
    "# print(formatmsg(df.loc[random.randint(0,100000)]['message']))\n",
    "\n"
   ]
  },
  {
   "cell_type": "code",
   "execution_count": null,
   "id": "3679be9a-cf59-4496-9fe8-fb7eddb3ab75",
   "metadata": {
    "execution": {
     "iopub.execute_input": "2022-08-29T14:44:02.238870Z",
     "iopub.status.busy": "2022-08-29T14:44:02.238274Z",
     "iopub.status.idle": "2022-08-29T14:44:02.269246Z",
     "shell.execute_reply": "2022-08-29T14:44:02.267453Z",
     "shell.execute_reply.started": "2022-08-29T14:44:02.238827Z"
    }
   },
   "outputs": [],
   "source": [
    "df['file'] = df['file'].map(lambda x: x.split('/',1)[0])\n"
   ]
  },
  {
   "cell_type": "code",
   "execution_count": null,
   "id": "3c3e5197-638e-4b33-a2e9-0106c7690381",
   "metadata": {
    "execution": {
     "iopub.execute_input": "2022-08-29T14:44:02.679391Z",
     "iopub.status.busy": "2022-08-29T14:44:02.678899Z",
     "iopub.status.idle": "2022-08-29T14:44:02.719972Z",
     "shell.execute_reply": "2022-08-29T14:44:02.719017Z",
     "shell.execute_reply.started": "2022-08-29T14:44:02.679366Z"
    }
   },
   "outputs": [],
   "source": [
    "#Order by number of contributions by author\n",
    "df = (df.assign(new =df['file'].map(df['file'].value_counts()))\n",
    "         .sort_values(['new','file'], ascending=[False, True])\n",
    "         .drop('new', axis=1))\n"
   ]
  },
  {
   "cell_type": "code",
   "execution_count": null,
   "id": "209c30e0-d06f-41e5-b23b-2b9deb930fff",
   "metadata": {
    "execution": {
     "iopub.execute_input": "2022-08-29T14:44:02.722927Z",
     "iopub.status.busy": "2022-08-29T14:44:02.722433Z",
     "iopub.status.idle": "2022-08-29T14:44:02.753183Z",
     "shell.execute_reply": "2022-08-29T14:44:02.751709Z",
     "shell.execute_reply.started": "2022-08-29T14:44:02.722888Z"
    }
   },
   "outputs": [],
   "source": [
    "#Remove bots\n",
    "df = df[df[\"file\"].str.contains(\"auto\")==False]"
   ]
  },
  {
   "cell_type": "code",
   "execution_count": null,
   "id": "21905df3-5959-4695-a85b-eadeccd6d956",
   "metadata": {
    "execution": {
     "iopub.execute_input": "2022-08-29T14:44:02.755850Z",
     "iopub.status.busy": "2022-08-29T14:44:02.755438Z",
     "iopub.status.idle": "2022-08-29T14:44:02.794447Z",
     "shell.execute_reply": "2022-08-29T14:44:02.792417Z",
     "shell.execute_reply.started": "2022-08-29T14:44:02.755810Z"
    }
   },
   "outputs": [],
   "source": [
    "#Limit the data\n",
    "num_authors = 70\n",
    "num_commits_per_author = 500 #≤4000\n",
    "seenauthors = []\n",
    "i = 0\n",
    "\n",
    "# df = df.reset_index()\n",
    "\n",
    "# print(df.drop_duplicates(subset = \"file\"))\n",
    "topauths = df.reset_index().drop_duplicates(subset = \"file\").iloc[[num_authors]].index[0]\n",
    "\n",
    "print(topauths)\n",
    "# print(df.reset_index().drop_duplicates(subset = \"file\").head())\n",
    "print(df.reset_index().head(topauths).drop_duplicates(subset='file').drop('index',axis=1).shape[0])\n",
    "\n",
    "df = df.reset_index().head(topauths)\n"
   ]
  },
  {
   "cell_type": "code",
   "execution_count": null,
   "id": "f0f80971-acea-4db2-b83e-0109c27b629c",
   "metadata": {
    "execution": {
     "iopub.execute_input": "2022-08-29T14:44:02.797583Z",
     "iopub.status.busy": "2022-08-29T14:44:02.797165Z",
     "iopub.status.idle": "2022-08-29T14:44:02.805884Z",
     "shell.execute_reply": "2022-08-29T14:44:02.803913Z",
     "shell.execute_reply.started": "2022-08-29T14:44:02.797544Z"
    }
   },
   "outputs": [],
   "source": [
    "df.shape[0]"
   ]
  },
  {
   "cell_type": "code",
   "execution_count": null,
   "id": "924a56fb-e7a6-4a39-ba1d-68187f5bc587",
   "metadata": {
    "execution": {
     "iopub.execute_input": "2022-08-29T14:44:02.808003Z",
     "iopub.status.busy": "2022-08-29T14:44:02.807529Z",
     "iopub.status.idle": "2022-08-29T14:44:04.727608Z",
     "shell.execute_reply": "2022-08-29T14:44:04.726197Z",
     "shell.execute_reply.started": "2022-08-29T14:44:02.807966Z"
    }
   },
   "outputs": [],
   "source": [
    "# print(df.head(10)['message'].map(lambda x:formatmsg(x)))\n",
    "\n",
    "df['message'] = df['message'].map(lambda x:formatmsg(x))\n",
    "df = df.dropna()\n"
   ]
  },
  {
   "cell_type": "code",
   "execution_count": null,
   "id": "4c3286e7-9546-4fb6-b17a-56cb00fd63b1",
   "metadata": {
    "execution": {
     "iopub.execute_input": "2022-08-29T14:44:04.731513Z",
     "iopub.status.busy": "2022-08-29T14:44:04.730961Z",
     "iopub.status.idle": "2022-08-29T14:44:04.756377Z",
     "shell.execute_reply": "2022-08-29T14:44:04.754367Z",
     "shell.execute_reply.started": "2022-08-29T14:44:04.731469Z"
    }
   },
   "outputs": [],
   "source": [
    "df = df.groupby(\"file\").head(num_commits_per_author).reset_index(drop=True).head(num_authors*num_commits_per_author)\n",
    "df.shape[0]"
   ]
  },
  {
   "cell_type": "code",
   "execution_count": null,
   "id": "37a63128-bd6c-42f8-a10c-8f035bd513a2",
   "metadata": {
    "execution": {
     "iopub.execute_input": "2022-08-29T14:44:04.758725Z",
     "iopub.status.busy": "2022-08-29T14:44:04.758382Z",
     "iopub.status.idle": "2022-08-29T14:45:26.057357Z",
     "shell.execute_reply": "2022-08-29T14:45:26.055809Z",
     "shell.execute_reply.started": "2022-08-29T14:44:04.758696Z"
    }
   },
   "outputs": [],
   "source": [
    "#Export to files\n",
    "import os\n",
    "\n",
    "for i, row in df.iterrows():\n",
    "     testrain = \"test\" if i%2==0 else \"train\"\n",
    "    \n",
    "     path = f\"enron_{num_authors}_{num_commits_per_author}/{testrain}/{row['file']}\"\n",
    "\n",
    "     if not os.path.exists(path):\n",
    "       os.makedirs(path)\n",
    "\n",
    "     filename = f\"{i}.txt\"\n",
    "     f = open(f\"{os.path.join(path, filename)}\", \"w\")\n",
    "     f.write(str((row['message'])))\n",
    "     f.close()\n",
    "    \n",
    "     if i%100==0:print(i)"
   ]
  }
 ],
 "metadata": {
  "kernelspec": {
   "display_name": "Python 3.10.6 64-bit",
   "language": "python",
   "name": "python3"
  },
  "language_info": {
   "codemirror_mode": {
    "name": "ipython",
    "version": 3
   },
   "file_extension": ".py",
   "mimetype": "text/x-python",
   "name": "python",
   "nbconvert_exporter": "python",
   "pygments_lexer": "ipython3",
   "version": "3.10.6"
  },
  "vscode": {
   "interpreter": {
    "hash": "aee8b7b246df8f9039afb4144a1f6fd8d2ca17a180786b69acc140d282b71a49"
   }
  }
 },
 "nbformat": 4,
 "nbformat_minor": 5
}
