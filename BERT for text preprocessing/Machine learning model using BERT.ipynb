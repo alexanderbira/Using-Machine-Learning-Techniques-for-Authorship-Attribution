{
 "cells": [
  {
   "cell_type": "markdown",
   "id": "01006a22-725b-43e1-b8c3-1d2d995ced2b",
   "metadata": {},
   "source": [
    "https://www.tensorflow.org/text/tutorials/classify_text_with_bert"
   ]
  },
  {
   "cell_type": "code",
   "execution_count": null,
   "id": "e87352f6-afd9-490b-bf6a-96d953e5b371",
   "metadata": {
    "execution": {
     "iopub.execute_input": "2022-08-25T17:44:14.810265Z",
     "iopub.status.busy": "2022-08-25T17:44:14.809858Z",
     "iopub.status.idle": "2022-08-25T17:44:55.133856Z",
     "shell.execute_reply": "2022-08-25T17:44:55.132971Z",
     "shell.execute_reply.started": "2022-08-25T17:44:14.810264Z"
    }
   },
   "outputs": [],
   "source": [
    "# Install dependencies\n",
    "!pip install tensorflow-text\n",
    "!pip install tf-models-official"
   ]
  },
  {
   "cell_type": "code",
   "execution_count": null,
   "id": "2ab826a4-d236-4d67-8459-b1dd21765037",
   "metadata": {
    "execution": {
     "iopub.execute_input": "2022-08-25T17:44:57.975453Z",
     "iopub.status.busy": "2022-08-25T17:44:57.975052Z",
     "iopub.status.idle": "2022-08-25T17:45:06.065389Z",
     "shell.execute_reply": "2022-08-25T17:45:06.064224Z",
     "shell.execute_reply.started": "2022-08-25T17:44:57.975424Z"
    }
   },
   "outputs": [],
   "source": [
    "import os\n",
    "import shutil\n",
    "\n",
    "import tensorflow as tf\n",
    "import tensorflow_hub as hub\n",
    "import tensorflow_text as text\n",
    "from official.nlp import optimization  # to create AdamW optimizer\n",
    "\n",
    "import matplotlib.pyplot as plt\n",
    "\n",
    "tf.get_logger().setLevel('ERROR')"
   ]
  },
  {
   "cell_type": "code",
   "execution_count": null,
   "id": "5d3177cf-e20c-4e03-a90b-11cb0f3982e8",
   "metadata": {
    "execution": {
     "iopub.execute_input": "2022-08-25T17:45:19.252528Z",
     "iopub.status.busy": "2022-08-25T17:45:19.251859Z",
     "iopub.status.idle": "2022-08-25T17:45:37.846264Z",
     "shell.execute_reply": "2022-08-25T17:45:37.845224Z",
     "shell.execute_reply.started": "2022-08-25T17:45:19.252500Z"
    }
   },
   "outputs": [],
   "source": [
    "# Load dataset\n",
    "\n",
    "folder = \"github_100_1000\"\n",
    "AUTOTUNE = tf.data.AUTOTUNE\n",
    "batch_size = 64\n",
    "seed = 42\n",
    "\n",
    "raw_train_ds = tf.keras.utils.text_dataset_from_directory(\n",
    "    f'{folder}/train',\n",
    "    batch_size=batch_size,\n",
    "    validation_split=0.2,\n",
    "    subset='training',\n",
    "    seed=seed)\n",
    "\n",
    "class_names = raw_train_ds.class_names\n",
    "train_ds = raw_train_ds.cache().prefetch(buffer_size=AUTOTUNE)\n",
    "\n",
    "val_ds = tf.keras.utils.text_dataset_from_directory(\n",
    "    f'{folder}/train',\n",
    "    batch_size=batch_size,\n",
    "    validation_split=0.2,\n",
    "    subset='validation',\n",
    "    seed=seed)\n",
    "\n",
    "val_ds = val_ds.cache().prefetch(buffer_size=AUTOTUNE)\n",
    "\n",
    "test_ds = tf.keras.utils.text_dataset_from_directory(\n",
    "    f'{folder}/test',\n",
    "    batch_size=batch_size)\n",
    "\n",
    "test_ds = test_ds.cache().prefetch(buffer_size=AUTOTUNE)"
   ]
  },
  {
   "cell_type": "code",
   "execution_count": null,
   "id": "c74dd947-e942-4466-a0eb-e4af35dc7ee7",
   "metadata": {
    "execution": {
     "iopub.execute_input": "2022-08-25T17:45:41.962601Z",
     "iopub.status.busy": "2022-08-25T17:45:41.961868Z",
     "iopub.status.idle": "2022-08-25T17:45:41.979664Z",
     "shell.execute_reply": "2022-08-25T17:45:41.978285Z",
     "shell.execute_reply.started": "2022-08-25T17:45:41.962550Z"
    }
   },
   "outputs": [],
   "source": [
    "# Choose a BERT model to fine-tune\n",
    "\n",
    "bert_model_name = 'small_bert/bert_en_uncased_L-4_H-512_A-8'  #@param [\"bert_en_uncased_L-12_H-768_A-12\", \"bert_en_cased_L-12_H-768_A-12\", \"bert_multi_cased_L-12_H-768_A-12\", \"small_bert/bert_en_uncased_L-2_H-128_A-2\", \"small_bert/bert_en_uncased_L-2_H-256_A-4\", \"small_bert/bert_en_uncased_L-2_H-512_A-8\", \"small_bert/bert_en_uncased_L-2_H-768_A-12\", \"small_bert/bert_en_uncased_L-4_H-128_A-2\", \"small_bert/bert_en_uncased_L-4_H-256_A-4\", \"small_bert/bert_en_uncased_L-4_H-512_A-8\", \"small_bert/bert_en_uncased_L-4_H-768_A-12\", \"small_bert/bert_en_uncased_L-6_H-128_A-2\", \"small_bert/bert_en_uncased_L-6_H-256_A-4\", \"small_bert/bert_en_uncased_L-6_H-512_A-8\", \"small_bert/bert_en_uncased_L-6_H-768_A-12\", \"small_bert/bert_en_uncased_L-8_H-128_A-2\", \"small_bert/bert_en_uncased_L-8_H-256_A-4\", \"small_bert/bert_en_uncased_L-8_H-512_A-8\", \"small_bert/bert_en_uncased_L-8_H-768_A-12\", \"small_bert/bert_en_uncased_L-10_H-128_A-2\", \"small_bert/bert_en_uncased_L-10_H-256_A-4\", \"small_bert/bert_en_uncased_L-10_H-512_A-8\", \"small_bert/bert_en_uncased_L-10_H-768_A-12\", \"small_bert/bert_en_uncased_L-12_H-128_A-2\", \"small_bert/bert_en_uncased_L-12_H-256_A-4\", \"small_bert/bert_en_uncased_L-12_H-512_A-8\", \"small_bert/bert_en_uncased_L-12_H-768_A-12\", \"albert_en_base\", \"electra_small\", \"electra_base\", \"experts_pubmed\", \"experts_wiki_books\", \"talking-heads_base\"]\n",
    "\n",
    "map_name_to_handle = {\n",
    "    'bert_en_uncased_L-12_H-768_A-12':\n",
    "        'https://tfhub.dev/tensorflow/bert_en_uncased_L-12_H-768_A-12/3',\n",
    "    'bert_en_cased_L-12_H-768_A-12':\n",
    "        'https://tfhub.dev/tensorflow/bert_en_cased_L-12_H-768_A-12/3',\n",
    "    'bert_multi_cased_L-12_H-768_A-12':\n",
    "        'https://tfhub.dev/tensorflow/bert_multi_cased_L-12_H-768_A-12/3',\n",
    "    'small_bert/bert_en_uncased_L-2_H-128_A-2':\n",
    "        'https://tfhub.dev/tensorflow/small_bert/bert_en_uncased_L-2_H-128_A-2/1',\n",
    "    'small_bert/bert_en_uncased_L-2_H-256_A-4':\n",
    "        'https://tfhub.dev/tensorflow/small_bert/bert_en_uncased_L-2_H-256_A-4/1',\n",
    "    'small_bert/bert_en_uncased_L-2_H-512_A-8':\n",
    "        'https://tfhub.dev/tensorflow/small_bert/bert_en_uncased_L-2_H-512_A-8/1',\n",
    "    'small_bert/bert_en_uncased_L-2_H-768_A-12':\n",
    "        'https://tfhub.dev/tensorflow/small_bert/bert_en_uncased_L-2_H-768_A-12/1',\n",
    "    'small_bert/bert_en_uncased_L-4_H-128_A-2':\n",
    "        'https://tfhub.dev/tensorflow/small_bert/bert_en_uncased_L-4_H-128_A-2/1',\n",
    "    'small_bert/bert_en_uncased_L-4_H-256_A-4':\n",
    "        'https://tfhub.dev/tensorflow/small_bert/bert_en_uncased_L-4_H-256_A-4/1',\n",
    "    'small_bert/bert_en_uncased_L-4_H-512_A-8':\n",
    "        'https://tfhub.dev/tensorflow/small_bert/bert_en_uncased_L-4_H-512_A-8/1',\n",
    "    'small_bert/bert_en_uncased_L-4_H-768_A-12':\n",
    "        'https://tfhub.dev/tensorflow/small_bert/bert_en_uncased_L-4_H-768_A-12/1',\n",
    "    'small_bert/bert_en_uncased_L-6_H-128_A-2':\n",
    "        'https://tfhub.dev/tensorflow/small_bert/bert_en_uncased_L-6_H-128_A-2/1',\n",
    "    'small_bert/bert_en_uncased_L-6_H-256_A-4':\n",
    "        'https://tfhub.dev/tensorflow/small_bert/bert_en_uncased_L-6_H-256_A-4/1',\n",
    "    'small_bert/bert_en_uncased_L-6_H-512_A-8':\n",
    "        'https://tfhub.dev/tensorflow/small_bert/bert_en_uncased_L-6_H-512_A-8/1',\n",
    "    'small_bert/bert_en_uncased_L-6_H-768_A-12':\n",
    "        'https://tfhub.dev/tensorflow/small_bert/bert_en_uncased_L-6_H-768_A-12/1',\n",
    "    'small_bert/bert_en_uncased_L-8_H-128_A-2':\n",
    "        'https://tfhub.dev/tensorflow/small_bert/bert_en_uncased_L-8_H-128_A-2/1',\n",
    "    'small_bert/bert_en_uncased_L-8_H-256_A-4':\n",
    "        'https://tfhub.dev/tensorflow/small_bert/bert_en_uncased_L-8_H-256_A-4/1',\n",
    "    'small_bert/bert_en_uncased_L-8_H-512_A-8':\n",
    "        'https://tfhub.dev/tensorflow/small_bert/bert_en_uncased_L-8_H-512_A-8/1',\n",
    "    'small_bert/bert_en_uncased_L-8_H-768_A-12':\n",
    "        'https://tfhub.dev/tensorflow/small_bert/bert_en_uncased_L-8_H-768_A-12/1',\n",
    "    'small_bert/bert_en_uncased_L-10_H-128_A-2':\n",
    "        'https://tfhub.dev/tensorflow/small_bert/bert_en_uncased_L-10_H-128_A-2/1',\n",
    "    'small_bert/bert_en_uncased_L-10_H-256_A-4':\n",
    "        'https://tfhub.dev/tensorflow/small_bert/bert_en_uncased_L-10_H-256_A-4/1',\n",
    "    'small_bert/bert_en_uncased_L-10_H-512_A-8':\n",
    "        'https://tfhub.dev/tensorflow/small_bert/bert_en_uncased_L-10_H-512_A-8/1',\n",
    "    'small_bert/bert_en_uncased_L-10_H-768_A-12':\n",
    "        'https://tfhub.dev/tensorflow/small_bert/bert_en_uncased_L-10_H-768_A-12/1',\n",
    "    'small_bert/bert_en_uncased_L-12_H-128_A-2':\n",
    "        'https://tfhub.dev/tensorflow/small_bert/bert_en_uncased_L-12_H-128_A-2/1',\n",
    "    'small_bert/bert_en_uncased_L-12_H-256_A-4':\n",
    "        'https://tfhub.dev/tensorflow/small_bert/bert_en_uncased_L-12_H-256_A-4/1',\n",
    "    'small_bert/bert_en_uncased_L-12_H-512_A-8':\n",
    "        'https://tfhub.dev/tensorflow/small_bert/bert_en_uncased_L-12_H-512_A-8/1',\n",
    "    'small_bert/bert_en_uncased_L-12_H-768_A-12':\n",
    "        'https://tfhub.dev/tensorflow/small_bert/bert_en_uncased_L-12_H-768_A-12/1',\n",
    "    'albert_en_base':\n",
    "        'https://tfhub.dev/tensorflow/albert_en_base/2',\n",
    "    'electra_small':\n",
    "        'https://tfhub.dev/google/electra_small/2',\n",
    "    'electra_base':\n",
    "        'https://tfhub.dev/google/electra_base/2',\n",
    "    'experts_pubmed':\n",
    "        'https://tfhub.dev/google/experts/bert/pubmed/2',\n",
    "    'experts_wiki_books':\n",
    "        'https://tfhub.dev/google/experts/bert/wiki_books/2',\n",
    "    'talking-heads_base':\n",
    "        'https://tfhub.dev/tensorflow/talkheads_ggelu_bert_en_base/1',\n",
    "}\n",
    "\n",
    "map_model_to_preprocess = {\n",
    "    'bert_en_uncased_L-12_H-768_A-12':\n",
    "        'https://tfhub.dev/tensorflow/bert_en_uncased_preprocess/3',\n",
    "    'bert_en_cased_L-12_H-768_A-12':\n",
    "        'https://tfhub.dev/tensorflow/bert_en_cased_preprocess/3',\n",
    "    'small_bert/bert_en_uncased_L-2_H-128_A-2':\n",
    "        'https://tfhub.dev/tensorflow/bert_en_uncased_preprocess/3',\n",
    "    'small_bert/bert_en_uncased_L-2_H-256_A-4':\n",
    "        'https://tfhub.dev/tensorflow/bert_en_uncased_preprocess/3',\n",
    "    'small_bert/bert_en_uncased_L-2_H-512_A-8':\n",
    "        'https://tfhub.dev/tensorflow/bert_en_uncased_preprocess/3',\n",
    "    'small_bert/bert_en_uncased_L-2_H-768_A-12':\n",
    "        'https://tfhub.dev/tensorflow/bert_en_uncased_preprocess/3',\n",
    "    'small_bert/bert_en_uncased_L-4_H-128_A-2':\n",
    "        'https://tfhub.dev/tensorflow/bert_en_uncased_preprocess/3',\n",
    "    'small_bert/bert_en_uncased_L-4_H-256_A-4':\n",
    "        'https://tfhub.dev/tensorflow/bert_en_uncased_preprocess/3',\n",
    "    'small_bert/bert_en_uncased_L-4_H-512_A-8':\n",
    "        'https://tfhub.dev/tensorflow/bert_en_uncased_preprocess/3',\n",
    "    'small_bert/bert_en_uncased_L-4_H-768_A-12':\n",
    "        'https://tfhub.dev/tensorflow/bert_en_uncased_preprocess/3',\n",
    "    'small_bert/bert_en_uncased_L-6_H-128_A-2':\n",
    "        'https://tfhub.dev/tensorflow/bert_en_uncased_preprocess/3',\n",
    "    'small_bert/bert_en_uncased_L-6_H-256_A-4':\n",
    "        'https://tfhub.dev/tensorflow/bert_en_uncased_preprocess/3',\n",
    "    'small_bert/bert_en_uncased_L-6_H-512_A-8':\n",
    "        'https://tfhub.dev/tensorflow/bert_en_uncased_preprocess/3',\n",
    "    'small_bert/bert_en_uncased_L-6_H-768_A-12':\n",
    "        'https://tfhub.dev/tensorflow/bert_en_uncased_preprocess/3',\n",
    "    'small_bert/bert_en_uncased_L-8_H-128_A-2':\n",
    "        'https://tfhub.dev/tensorflow/bert_en_uncased_preprocess/3',\n",
    "    'small_bert/bert_en_uncased_L-8_H-256_A-4':\n",
    "        'https://tfhub.dev/tensorflow/bert_en_uncased_preprocess/3',\n",
    "    'small_bert/bert_en_uncased_L-8_H-512_A-8':\n",
    "        'https://tfhub.dev/tensorflow/bert_en_uncased_preprocess/3',\n",
    "    'small_bert/bert_en_uncased_L-8_H-768_A-12':\n",
    "        'https://tfhub.dev/tensorflow/bert_en_uncased_preprocess/3',\n",
    "    'small_bert/bert_en_uncased_L-10_H-128_A-2':\n",
    "        'https://tfhub.dev/tensorflow/bert_en_uncased_preprocess/3',\n",
    "    'small_bert/bert_en_uncased_L-10_H-256_A-4':\n",
    "        'https://tfhub.dev/tensorflow/bert_en_uncased_preprocess/3',\n",
    "    'small_bert/bert_en_uncased_L-10_H-512_A-8':\n",
    "        'https://tfhub.dev/tensorflow/bert_en_uncased_preprocess/3',\n",
    "    'small_bert/bert_en_uncased_L-10_H-768_A-12':\n",
    "        'https://tfhub.dev/tensorflow/bert_en_uncased_preprocess/3',\n",
    "    'small_bert/bert_en_uncased_L-12_H-128_A-2':\n",
    "        'https://tfhub.dev/tensorflow/bert_en_uncased_preprocess/3',\n",
    "    'small_bert/bert_en_uncased_L-12_H-256_A-4':\n",
    "        'https://tfhub.dev/tensorflow/bert_en_uncased_preprocess/3',\n",
    "    'small_bert/bert_en_uncased_L-12_H-512_A-8':\n",
    "        'https://tfhub.dev/tensorflow/bert_en_uncased_preprocess/3',\n",
    "    'small_bert/bert_en_uncased_L-12_H-768_A-12':\n",
    "        'https://tfhub.dev/tensorflow/bert_en_uncased_preprocess/3',\n",
    "    'bert_multi_cased_L-12_H-768_A-12':\n",
    "        'https://tfhub.dev/tensorflow/bert_multi_cased_preprocess/3',\n",
    "    'albert_en_base':\n",
    "        'https://tfhub.dev/tensorflow/albert_en_preprocess/3',\n",
    "    'electra_small':\n",
    "        'https://tfhub.dev/tensorflow/bert_en_uncased_preprocess/3',\n",
    "    'electra_base':\n",
    "        'https://tfhub.dev/tensorflow/bert_en_uncased_preprocess/3',\n",
    "    'experts_pubmed':\n",
    "        'https://tfhub.dev/tensorflow/bert_en_uncased_preprocess/3',\n",
    "    'experts_wiki_books':\n",
    "        'https://tfhub.dev/tensorflow/bert_en_uncased_preprocess/3',\n",
    "    'talking-heads_base':\n",
    "        'https://tfhub.dev/tensorflow/bert_en_uncased_preprocess/3',\n",
    "}\n",
    "\n",
    "tfhub_handle_encoder = map_name_to_handle[bert_model_name]\n",
    "tfhub_handle_preprocess = map_model_to_preprocess[bert_model_name]\n",
    "\n",
    "print(f'BERT model selected           : {tfhub_handle_encoder}')\n",
    "print(f'Preprocess model auto-selected: {tfhub_handle_preprocess}')"
   ]
  },
  {
   "cell_type": "code",
   "execution_count": null,
   "id": "5cd563c6-d787-4dbb-bcb0-fd47fbe7a227",
   "metadata": {
    "execution": {
     "iopub.execute_input": "2022-08-25T17:45:48.294306Z",
     "iopub.status.busy": "2022-08-25T17:45:48.293928Z",
     "iopub.status.idle": "2022-08-25T17:45:58.466416Z",
     "shell.execute_reply": "2022-08-25T17:45:58.465573Z",
     "shell.execute_reply.started": "2022-08-25T17:45:48.294280Z"
    }
   },
   "outputs": [],
   "source": [
    "# If this doesn't work, restart the machine\n",
    "bert_preprocess_model = hub.KerasLayer(tfhub_handle_preprocess)\n",
    "bert_model = hub.KerasLayer(tfhub_handle_encoder)"
   ]
  },
  {
   "cell_type": "code",
   "execution_count": null,
   "id": "1b8f5cab-12e7-4392-b76b-d8a080df09aa",
   "metadata": {
    "execution": {
     "iopub.execute_input": "2022-08-25T17:46:33.716509Z",
     "iopub.status.busy": "2022-08-25T17:46:33.716052Z",
     "iopub.status.idle": "2022-08-25T17:46:33.723771Z",
     "shell.execute_reply": "2022-08-25T17:46:33.722929Z",
     "shell.execute_reply.started": "2022-08-25T17:46:33.716480Z"
    }
   },
   "outputs": [],
   "source": [
    "def build_classifier_model():\n",
    "  text_input = tf.keras.layers.Input(shape=(), dtype=tf.string, name='text')\n",
    "  preprocessing_layer = hub.KerasLayer(tfhub_handle_preprocess, name='preprocessing')\n",
    "  encoder_inputs = preprocessing_layer(text_input)\n",
    "  encoder = hub.KerasLayer(tfhub_handle_encoder, trainable=True, name='BERT_encoder')\n",
    "  outputs = encoder(encoder_inputs)\n",
    "  net = outputs['pooled_output']\n",
    "  net = tf.keras.layers.Dropout(0.1)(net)\n",
    "  net = tf.keras.layers.Dense(9, activation=None, name='classifier')(net) #change first argument to match number of classes\n",
    "  return tf.keras.Model(text_input, net)"
   ]
  },
  {
   "cell_type": "code",
   "execution_count": null,
   "id": "6df7dbc7-17eb-4544-b548-b5d60f663a3e",
   "metadata": {
    "execution": {
     "iopub.execute_input": "2022-08-25T17:46:50.586686Z",
     "iopub.status.busy": "2022-08-25T17:46:50.586259Z",
     "iopub.status.idle": "2022-08-25T17:46:59.187633Z",
     "shell.execute_reply": "2022-08-25T17:46:59.186630Z",
     "shell.execute_reply.started": "2022-08-25T17:46:50.586678Z"
    }
   },
   "outputs": [],
   "source": [
    "# Show the model structure\n",
    "classifier_model = build_classifier_model()\n",
    "tf.keras.utils.plot_model(classifier_model)"
   ]
  },
  {
   "cell_type": "code",
   "execution_count": null,
   "id": "d85abf22-90a0-4e23-ad72-2b5760b08c3b",
   "metadata": {
    "execution": {
     "iopub.execute_input": "2022-08-25T17:46:38.486813Z",
     "iopub.status.busy": "2022-08-25T17:46:38.486435Z",
     "iopub.status.idle": "2022-08-25T17:46:38.492723Z",
     "shell.execute_reply": "2022-08-25T17:46:38.491272Z",
     "shell.execute_reply.started": "2022-08-25T17:46:38.486770Z"
    }
   },
   "outputs": [],
   "source": [
    "loss = tf.keras.losses.SparseCategoricalCrossentropy(from_logits=True)\n",
    "metrics = [\"accuracy\"]"
   ]
  },
  {
   "cell_type": "code",
   "execution_count": null,
   "id": "3dea9bed-ebec-4f4d-bc07-1e71072d20aa",
   "metadata": {
    "execution": {
     "iopub.execute_input": "2022-08-25T17:46:41.424026Z",
     "iopub.status.busy": "2022-08-25T17:46:41.423370Z",
     "iopub.status.idle": "2022-08-25T17:46:41.432736Z",
     "shell.execute_reply": "2022-08-25T17:46:41.431284Z",
     "shell.execute_reply.started": "2022-08-25T17:46:41.423979Z"
    }
   },
   "outputs": [],
   "source": [
    "epochs = 5\n",
    "steps_per_epoch = tf.data.experimental.cardinality(train_ds).numpy()\n",
    "num_train_steps = steps_per_epoch * epochs\n",
    "num_warmup_steps = int(0.1*num_train_steps)\n",
    "\n",
    "init_lr = 3e-5\n",
    "optimizer = optimization.create_optimizer(init_lr=init_lr,\n",
    "                                          num_train_steps=num_train_steps,\n",
    "                                          num_warmup_steps=num_warmup_steps,\n",
    "                                          optimizer_type='adamw')"
   ]
  },
  {
   "cell_type": "code",
   "execution_count": null,
   "id": "bf0bb459-6779-47c2-985e-714269be1df9",
   "metadata": {
    "execution": {
     "iopub.execute_input": "2022-08-25T17:48:32.204908Z",
     "iopub.status.busy": "2022-08-25T17:48:32.204511Z",
     "iopub.status.idle": "2022-08-25T17:48:32.224700Z",
     "shell.execute_reply": "2022-08-25T17:48:32.223820Z",
     "shell.execute_reply.started": "2022-08-25T17:48:32.204881Z"
    }
   },
   "outputs": [],
   "source": [
    "classifier_model.compile(optimizer=optimizer,\n",
    "                         loss=loss,\n",
    "                         metrics=metrics)"
   ]
  },
  {
   "cell_type": "code",
   "execution_count": null,
   "id": "c79ea249-343a-4659-9193-3d4f46a121dd",
   "metadata": {
    "execution": {
     "iopub.execute_input": "2022-08-25T17:48:35.828980Z",
     "iopub.status.busy": "2022-08-25T17:48:35.828525Z"
    }
   },
   "outputs": [],
   "source": [
    "# Train the model\n",
    "print(f'Training model with {tfhub_handle_encoder}')\n",
    "history = classifier_model.fit(x=train_ds,\n",
    "                               validation_data=val_ds,\n",
    "                               epochs=epochs)"
   ]
  },
  {
   "cell_type": "code",
   "execution_count": null,
   "id": "3ed0d03b-569e-44d1-8c93-e19141e12b73",
   "metadata": {
    "execution": {
     "iopub.execute_input": "2022-08-25T12:52:49.977078Z",
     "iopub.status.busy": "2022-08-25T12:52:49.976794Z",
     "iopub.status.idle": "2022-08-25T13:00:38.320981Z",
     "shell.execute_reply": "2022-08-25T13:00:38.319653Z",
     "shell.execute_reply.started": "2022-08-25T12:52:49.977051Z"
    }
   },
   "outputs": [],
   "source": [
    "# Evaluate the model\n",
    "loss, accuracy = classifier_model.evaluate(test_ds)\n",
    "\n",
    "print(f'Loss: {loss}')\n",
    "print(f'Accuracy: {accuracy}')"
   ]
  },
  {
   "cell_type": "code",
   "execution_count": null,
   "id": "233498b4-64aa-4fee-8fb5-23816a056be0",
   "metadata": {
    "execution": {
     "iopub.execute_input": "2022-08-25T13:00:38.323143Z",
     "iopub.status.busy": "2022-08-25T13:00:38.322693Z",
     "iopub.status.idle": "2022-08-25T13:00:38.710644Z",
     "shell.execute_reply": "2022-08-25T13:00:38.709383Z",
     "shell.execute_reply.started": "2022-08-25T13:00:38.323102Z"
    }
   },
   "outputs": [],
   "source": [
    "# Plot accuracy and loss\n",
    "history_dict = history.history\n",
    "print(history_dict.keys())\n",
    "\n",
    "acc = history_dict['accuracy']\n",
    "val_acc = history_dict['val_accuracy']\n",
    "loss = history_dict['loss']\n",
    "val_loss = history_dict['val_loss']\n",
    "\n",
    "epochs = range(1, len(acc) + 1)\n",
    "fig = plt.figure(figsize=(10, 6))\n",
    "fig.tight_layout()\n",
    "\n",
    "plt.subplot(2, 1, 1)\n",
    "# r is for \"solid red line\"\n",
    "plt.plot(epochs, loss, 'r', label='Training loss')\n",
    "# b is for \"solid blue line\"\n",
    "plt.plot(epochs, val_loss, 'b', label='Validation loss')\n",
    "plt.title('Training and validation loss')\n",
    "# plt.xlabel('Epochs')\n",
    "plt.ylabel('Loss')\n",
    "plt.legend()\n",
    "\n",
    "plt.subplot(2, 1, 2)\n",
    "plt.plot(epochs, acc, 'r', label='Training acc')\n",
    "plt.plot(epochs, val_acc, 'b', label='Validation acc')\n",
    "plt.title('Training and validation accuracy')\n",
    "plt.xlabel('Epochs')\n",
    "plt.ylabel('Accuracy')\n",
    "plt.legend(loc='lower right')"
   ]
  },
  {
   "cell_type": "code",
   "execution_count": null,
   "id": "d169f655-fd8d-432a-9e66-76c87967dee2",
   "metadata": {
    "execution": {
     "iopub.execute_input": "2022-08-25T13:00:38.714659Z",
     "iopub.status.busy": "2022-08-25T13:00:38.713813Z",
     "iopub.status.idle": "2022-08-25T13:00:39.684684Z",
     "shell.execute_reply": "2022-08-25T13:00:39.683238Z",
     "shell.execute_reply.started": "2022-08-25T13:00:38.714612Z"
    }
   },
   "outputs": [],
   "source": [
    "# Test the model on sample text\n",
    "\n",
    "import numpy as np\n",
    "import pandas as pd\n",
    "\n",
    "# Add as many examples to the array as you want\n",
    "examples = [\n",
    "    #Austen\n",
    "    \"The little girl performed her long journey in safety; and at Northampton was met by Mrs. Norris, who thus regaled in the credit of being foremost to welcome her, and in the importance of leading her in to the others, and recommending her to their kindness.\",\n",
    "    \n",
    "    #Carroll\n",
    "    \"\"\"Bruno slipped off his chair in a moment. “May we go \n",
    "too?” he eagerly asked. But the King did not hear the \n",
    "question, as the Professor was speaking to him. “ Preoccu¬ \n",
    "pied , your Majesty!” he was saying. “That is what he is, \n",
    "no doubt!” \n",
    "\n",
    "\"May we go and see him?” Bruno repeated. The King \n",
    "nodded assent, and the children ran off. In a minute or \n",
    "two they returned, slowly and gravely. “Well?” said the \n",
    "King. “What’s the matter with the Prince?\\\"\"\"\",\n",
    "    \n",
    "    #Dickens\n",
    "    \"\"\"She  timidly  laid  her  hand  on  his  dear  breast,  and  put  up \n",
    "a  prayer  that  she  might  ever  be  as  true  to  him  as  her  love \n",
    "aspired  to  be,  and  as  his  sorrows  deserved.  Then,  she  with- \n",
    "drew her  hand,  and  kissed  his  lips  once  more,  and  went  away. \n",
    "So,  the  sunrise  came,  and  the  shadows  of  the  leaves  of  the \n",
    "plane-tree  moved  upon  his  face,  as  softly  as  her  lips  had \n",
    "moved  in  praying  for  him.\"\"\",\n",
    "    \n",
    "    #Kipling\n",
    "    \"\"\"To cut a long story short, Dunnoo is now \n",
    "my personal servant on a gold mohur a month \n",
    "— a sum which I still think far too little for \n",
    "the services he has rendered. Nothing on \n",
    "earth will induce me to go near that devilish \n",
    "spot again, or to reveal its whereabouts more \n",
    "clearly than I have done.\"\"\",\n",
    "    \n",
    "    #Poe\n",
    "    \"\"\"with mortal eyes, but looks within to the pure internal \n",
    "life of which the outward is but a type/' etc., etc. \n",
    "Ihese passages are taken from the Argument pre- \n",
    "fixed to Part L The general thesis of the poetess may, \n",
    "perhaps, be stated as the demonstration that the \n",
    "superior wisdom is moral rather than intellectual; \n",
    "but it may be doubted whether her subject was ever \n",
    "predsely apparent to herself.\"\"\",\n",
    "    \n",
    "    #Shakespeare\n",
    "    \"\"\"But thou shrieking harbinger,\n",
    "Foul precurrer of the fiend,\n",
    "Augur of the fever's end,\n",
    "To this troop come thou not near.\"\"\",\n",
    "    \n",
    "    #Twain\n",
    "    \"\"\"Our spirits rose and the landlord's fell--at least we thought so; he was\n",
    "confused, at any rate, notwithstanding he had not understood a word that\n",
    "had been said.  He glanced from the little pile of gold pieces to Blucher\n",
    "several times and then went out.\"\"\",\n",
    "    \n",
    "    #Verne\n",
    "    \"\"\"The  important  question  of  provisions  still  remained;  it \n",
    "being  necessary  to  provide  against  the  possibility  of  their \n",
    "finding  the  moon  absolutely  barren.  Barbicane  managed \n",
    "so  successfully,  that  he  supplied  them  with  sufficient  rations \n",
    "for  a  year.  These  consisted  of  preserved  meats  and \n",
    "vegetables,  reduced  by  strong  hydraulic  pressure  to  the \n",
    "smallest  possible  dimensions.\"\"\",\n",
    "    \n",
    "    #Wells\n",
    "    \"\"\"The Angel pointed to a group of people who had gathered upon a \n",
    "little beach at the head of a Norwegian fiord. There were three \n",
    "lads, an old man and two women, and they stood about the body of \n",
    "a drowned German sailor which had been washed up that day. For a \n",
    "time they had talked in whispers, but now suddenly the old man \n",
    "spoke aloud.\"\"\",\n",
    "]\n",
    " \n",
    "def softmax(vec):\n",
    "  exponential = np.exp(vec)\n",
    "  probabilities = (exponential / np.sum(exponential))*100\n",
    "  return list(map(round, list(probabilities)))\n",
    "\n",
    "results = classifier_model.predict(examples)\n",
    "print(results)\n",
    "authors = [\"austen\", \"carroll\", \"dickens\", \"kipling\", \"poe\", \"shakespeare\", \"twain\", \"verne\", \"wells\", \"prediction\"]\n",
    "table = []\n",
    "\n",
    "for i in results:\n",
    "    table.append(softmax(i) + [authors[list(i).index(max(i))]])\n",
    "\n",
    "print(pd.DataFrame(table, index=list(map(lambda x: x[0:15]+\"...\", examples)), columns=authors))"
   ]
  },
  {
   "cell_type": "code",
   "execution_count": null,
   "id": "9e7fb190-6123-4c59-a480-def3d5a0f81d",
   "metadata": {
    "execution": {
     "iopub.status.busy": "2022-08-25T13:00:39.685520Z",
     "iopub.status.idle": "2022-08-25T13:00:39.685919Z",
     "shell.execute_reply": "2022-08-25T13:00:39.685919Z",
     "shell.execute_reply.started": "2022-08-25T13:00:39.685919Z"
    }
   },
   "outputs": [],
   "source": [
    "#Export the model\n",
    "\n",
    "# dataset_name = 'github'\n",
    "# saved_model_path = './{}_bert'.format(dataset_name.replace('/', '_'))\n",
    "\n",
    "# classifier_model.save(saved_model_path, include_optimizer=False)"
   ]
  }
 ],
 "metadata": {
  "kernelspec": {
   "display_name": "Python 3 (ipykernel)",
   "language": "python",
   "name": "python3"
  },
  "language_info": {
   "codemirror_mode": {
    "name": "ipython",
    "version": 3
   },
   "file_extension": ".py",
   "mimetype": "text/x-python",
   "name": "python",
   "nbconvert_exporter": "python",
   "pygments_lexer": "ipython3",
   "version": "3.9.13"
  }
 },
 "nbformat": 4,
 "nbformat_minor": 5
}
