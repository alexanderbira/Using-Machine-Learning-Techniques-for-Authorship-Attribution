{
 "cells": [
  {
   "cell_type": "code",
   "execution_count": null,
   "id": "76777e7e-541e-4bb3-a6df-1e93361c90b1",
   "metadata": {
    "execution": {
     "iopub.execute_input": "2022-08-24T17:24:52.381301Z",
     "iopub.status.busy": "2022-08-24T17:24:52.380934Z",
     "iopub.status.idle": "2022-08-24T17:24:52.391842Z",
     "shell.execute_reply": "2022-08-24T17:24:52.390837Z",
     "shell.execute_reply.started": "2022-08-24T17:24:52.381233Z"
    }
   },
   "outputs": [],
   "source": [
    "import os\n",
    "import time\n",
    "import random"
   ]
  },
  {
   "cell_type": "code",
   "execution_count": null,
   "id": "ceb61735-06f0-433f-99d5-eaa570f0e829",
   "metadata": {
    "execution": {
     "iopub.execute_input": "2022-08-24T17:30:17.829383Z",
     "iopub.status.busy": "2022-08-24T17:30:17.828351Z",
     "iopub.status.idle": "2022-08-24T17:31:01.720680Z",
     "shell.execute_reply": "2022-08-24T17:31:01.719415Z",
     "shell.execute_reply.started": "2022-08-24T17:30:17.829354Z"
    }
   },
   "outputs": [],
   "source": [
    "# File generation\n",
    "\n",
    "# get all the files\n",
    "path_main = 'data/'\n",
    "n = 1500  # chunk length\n",
    "\n",
    "works_files = {\n",
    "    \"austen\": [],\n",
    "    # \"carroll\": [],\n",
    "    # \"dickens\": [],\n",
    "    # \"kipling\": [],\n",
    "    # \"poe\": [],\n",
    "    \"shakespeare\": [],\n",
    "    \"twain\": [],\n",
    "    # \"verne\": [],\n",
    "    \"wells\": []\n",
    "}\n",
    "\n",
    "for author in works_files:\n",
    "    path = path_main + author\n",
    "    for root, dirs, files in os.walk(path):\n",
    "        for file in files:\n",
    "            works_files[author].append(os.path.join(root, file))\n",
    "\n",
    "# convert the files to 1000-character chunks\n",
    "works_chunks = {\n",
    "    \"austen\": [],\n",
    "    # \"carroll\": [],\n",
    "    # \"dickens\": [],\n",
    "    # \"kipling\": [],\n",
    "    # \"poe\": [],\n",
    "    \"shakespeare\": [],\n",
    "    \"twain\": [],\n",
    "    # \"verne\": [],\n",
    "    \"wells\": []\n",
    "}\n",
    "\n",
    "for author in works_chunks:\n",
    "    for file in works_files[author]:\n",
    "        if \".DS_Store\" in file:\n",
    "            continue\n",
    "        with open(file, \"r\") as open_file:\n",
    "            # there are lots of unnecessary line breaks\n",
    "            text = open_file.read().replace(\"\\n\", \" \")\n",
    "            sentences = text.split(\".\")\n",
    "            newchunks = []\n",
    "            newchunk = \"\"\n",
    "            for sentence in sentences:\n",
    "                newchunk += sentence + \".\"  # removed during splitting\n",
    "                if len(newchunk) >= n:\n",
    "                    newchunks.append(newchunk)\n",
    "                    newchunk = \"\"\n",
    "\n",
    "            works_chunks[author] += newchunks\n",
    "\n",
    "            \n",
    "for author in works_chunks:\n",
    "    i = 0\n",
    "    for chunk in works_chunks[author]:\n",
    "        print(f\"{i} / {len(works_chunks[author])}\")\n",
    "        testrain = \"test\" if i%2==0 else \"train\"\n",
    "        \n",
    "        path = f\"extracts/{testrain}/{author}\"\n",
    "        \n",
    "        if not os.path.exists(path):\n",
    "            os.makedirs(path)\n",
    "            \n",
    "        filename = f\"{i}.txt\"\n",
    "        f = open(f\"{os.path.join(path, filename)}\", \"w\")\n",
    "        f.write(chunk)\n",
    "        f.close()\n",
    "        i += 1"
   ]
  }
 ],
 "metadata": {
  "kernelspec": {
   "display_name": "Python 3 (ipykernel)",
   "language": "python",
   "name": "python3"
  },
  "language_info": {
   "codemirror_mode": {
    "name": "ipython",
    "version": 3
   },
   "file_extension": ".py",
   "mimetype": "text/x-python",
   "name": "python",
   "nbconvert_exporter": "python",
   "pygments_lexer": "ipython3",
   "version": "3.10.6"
  },
  "vscode": {
   "interpreter": {
    "hash": "aee8b7b246df8f9039afb4144a1f6fd8d2ca17a180786b69acc140d282b71a49"
   }
  }
 },
 "nbformat": 4,
 "nbformat_minor": 5
}
